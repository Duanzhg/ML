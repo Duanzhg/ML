{
 "cells": [
  {
   "cell_type": "code",
   "execution_count": 121,
   "metadata": {},
   "outputs": [],
   "source": [
    "import numpy as np\n",
    "from matplotlib import pyplot as plt\n",
    "\n",
    "def loaddata ():\n",
    "    dataSet = [[0, 0,0,0,0,0, 'yes'],\n",
    "               [1, 0,1,0,0,0,'yes'],\n",
    "               [1, 0,0,0,0,0,'yes'],\n",
    "               [0, 0,1,0,0,0,'yes'],\n",
    "               [2, 0,0,0,0,0,'yes'],\n",
    "               [0, 1,0,0,1,1,'yes'],\n",
    "               [1, 1,0,1,1,1,'yes'],\n",
    "               [1, 1,0,0,1,0, 'yes'],\n",
    "               [1, 1,1,1,1,0,'no'],\n",
    "               [0, 2,2,0,2,1,'no'],\n",
    "               [2, 2,2,2,2,0,'no'],\n",
    "               [2, 0,0,2,2,1,'no'],\n",
    "               [0, 1,0,1,0,0, 'no'],\n",
    "               [2, 1,1,1,0,0,'no'],\n",
    "               [1, 1,0,0,1,1,'no'],\n",
    "               [2, 0,0,2,2,0,'no'],\n",
    "               [0, 0,1,1,1,0,'no']]\n",
    "    feature_name = ['a1','a2','a3','a4','a5','a6']\n",
    "    return dataSet, feature_name"
   ]
  },
  {
   "cell_type": "code",
   "execution_count": 122,
   "metadata": {},
   "outputs": [],
   "source": [
    "##计算经验熵\n",
    "def compute_empirical_entropy(dataSet):\n",
    "    numEntries = len(dataSet)\n",
    "    labelCount = {}\n",
    "    ##经验熵\n",
    "    empiricalEnt = 0.0\n",
    "    \n",
    "    #对当前每一个数据进行统计\n",
    "    for entry in dataSet:\n",
    "        currentLabel = entry[-1]\n",
    "        if currentLabel not in labelCount.keys():\n",
    "            labelCount[currentLabel] = 0\n",
    "\n",
    "        labelCount[currentLabel] +=1\n",
    "\n",
    "        \n",
    "    for key in labelCount.keys():\n",
    "        prob = labelCount[key]/numEntries\n",
    "        empiricalEnt -= prob*np.log2(prob)\n",
    "    return empiricalEnt;\n"
   ]
  },
  {
   "cell_type": "code",
   "execution_count": 123,
   "metadata": {},
   "outputs": [],
   "source": [
    "#按照某一个特征的不同取值切分数据集\n",
    "#dataSet 为数据集\n",
    "#index为表示它是数据集中第index+1个特征（下标从0开始）\n",
    "#value表示特征值\n",
    "def split_dataSet(dataSet,index,value):\n",
    "    retDataSet = []\n",
    "    for entry in dataSet:\n",
    "        if entry[index] == value:\n",
    "            #如果当前数据的特征为value，将它这一特征项去掉，然后加到retDataSet中\n",
    "            tmpEntry = entry[:index]\n",
    "            tmpEntry.extend(entry[index+1:])\n",
    "            retDataSet.append(tmpEntry)\n",
    "    return retDataSet"
   ]
  },
  {
   "cell_type": "code",
   "execution_count": 124,
   "metadata": {},
   "outputs": [],
   "source": [
    "#计算条件熵\n",
    "def compute_conditional_entropy(dataSet,index):\n",
    "    featureValues = [exmaple[index] for exmaple in dataSet]\n",
    "    featureValues = set(featureValues)\n",
    "    condEnt = 0.0\n",
    "    \n",
    "    for featureValue in featureValues:\n",
    "        subdataSet = split_dataSet(dataSet,index,featureValue)\n",
    "        prob = len(subdataSet)/len(dataSet)\n",
    "        condEnt += prob*compute_empirical_entropy(subdataSet)\n",
    "    \n",
    "    return condEnt\n",
    "\n",
    "    #计算某个特征的增益信息\n",
    "def compute_infoGain(dataSet,index):\n",
    "    return compute_empirical_entropy(dataSet) - compute_conditional_entropy(dataSet,index)\n"
   ]
  },
  {
   "cell_type": "code",
   "execution_count": 145,
   "metadata": {},
   "outputs": [],
   "source": [
    "#选择增益信息最大的特征,并且返回它的下标\n",
    "def chooseBestFeature(dataSet):\n",
    "    \n",
    "    #特征的数量\n",
    "    featureNum = len(dataSet[0]) - 1\n",
    "    #最优特征的下标\n",
    "    bestFeatureIndex = -1\n",
    "    #当前最大信息增益\n",
    "    maxInfoGain = 0\n",
    "    \n",
    "    for i in range(featureNum):\n",
    "        infoGain = compute_infoGain(dataSet,i)\n",
    "        \n",
    "        if(infoGain > maxInfoGain):\n",
    "            maxInfoGain = infoGain\n",
    "            bestFeatureIndex = i\n",
    "    return bestFeatureIndex"
   ]
  },
  {
   "cell_type": "code",
   "execution_count": 146,
   "metadata": {},
   "outputs": [],
   "source": [
    "##选择主要类\n",
    "def majorityCnt(classList):\n",
    "    classCount={}\n",
    "    #统计classList中每个元素出现的次数\n",
    "    for vote in classList:\n",
    "        if vote not in classCount.keys():\n",
    "            classCount[vote]=0\n",
    "            classCount[vote]+=1\n",
    "        #根据字典的值降序排列\n",
    "        sortedClassCount=sorted(classCount.items(),key=operator.itemgetter(1),reverse=True)\n",
    "        return sortedClassCount[0][0]\n"
   ]
  },
  {
   "cell_type": "code",
   "execution_count": 149,
   "metadata": {},
   "outputs": [],
   "source": [
    "import copy\n",
    "#构建决策树\n",
    "def createTree(dataSet,labels):\n",
    "    classList = [exmaple[-1] for exmaple in dataSet]\n",
    "    \n",
    "    #如果当前子集中所有数据的类型都一样，则递归停止，返回这个类\n",
    "    if(classList.count(classList[0]) == len(dataSet)):\n",
    "        return classList[0]\n",
    "    \n",
    "    #如果当前子集中只剩下一个特征，则停止递归，返回子集中数据最多的类别\n",
    "    if(len(dataSet) == 1):\n",
    "        return majorityCnt(classList)\n",
    "    \n",
    "    bestFeatureIndex = chooseBestFeature(dataSet)\n",
    "    bestFeature = labels[bestFeatureIndex]\n",
    "    \n",
    "    ## 为了使下一层对labels的改变不影响上一层，我们对labels进行深拷贝得到labels，然后将labels2传到下一层\n",
    "    labels2 = copy.deepcopy(labels)\n",
    "    del(labels2[bestFeatureIndex])\n",
    "    \n",
    "    myTree = {bestFeature:{}}\n",
    "    featureValues = set([exmaple[bestFeatureIndex] for exmaple in dataSet])\n",
    "    \n",
    "    for featureValue in featureValues:\n",
    "        myTree[bestFeature][featureValue] = createTree(split_dataSet(dataSet,bestFeatureIndex,featureValue),labels2)\n",
    "    return myTree"
   ]
  },
  {
   "cell_type": "code",
   "execution_count": 150,
   "metadata": {},
   "outputs": [
    {
     "name": "stdout",
     "output_type": "stream",
     "text": [
      "{'a4': {0: {'a2': {0: 'yes', 1: {'a1': {0: 'yes', 1: {'a6': {0: 'yes', 1: 'no'}}}}, 2: 'no'}}, 1: {'a6': {0: 'no', 1: 'yes'}}, 2: 'no'}}\n"
     ]
    }
   ],
   "source": [
    "dataSet,labels = loaddata()\n",
    "print(createTree(dataSet,labels))"
   ]
  },
  {
   "cell_type": "code",
   "execution_count": null,
   "metadata": {},
   "outputs": [],
   "source": []
  },
  {
   "cell_type": "code",
   "execution_count": null,
   "metadata": {},
   "outputs": [],
   "source": []
  },
  {
   "cell_type": "code",
   "execution_count": null,
   "metadata": {},
   "outputs": [],
   "source": []
  }
 ],
 "metadata": {
  "kernelspec": {
   "display_name": "Python 3",
   "language": "python",
   "name": "python3"
  },
  "language_info": {
   "codemirror_mode": {
    "name": "ipython",
    "version": 3
   },
   "file_extension": ".py",
   "mimetype": "text/x-python",
   "name": "python",
   "nbconvert_exporter": "python",
   "pygments_lexer": "ipython3",
   "version": "3.8.3"
  }
 },
 "nbformat": 4,
 "nbformat_minor": 4
}
