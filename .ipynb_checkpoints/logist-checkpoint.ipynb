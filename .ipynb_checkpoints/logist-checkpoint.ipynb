{
 "cells": [
  {
   "cell_type": "code",
   "execution_count": 35,
   "metadata": {},
   "outputs": [],
   "source": [
    "import numpy as np\n",
    "from matplotlib import pyplot as plt\n",
    "\n",
    "def regulation(x):\n",
    "    return  (x-x.mean())/x.std()\n",
    "\n",
    "data = np.genfromtxt(\"data1.txt\",delimiter=\",\")\n",
    "\n",
    "x1 = data[:,0]\n",
    "x2= data[:,1]\n",
    "y = data[:,2]\n",
    "\n",
    "#正则化\n",
    "rx1 = regulation(x1)\n",
    "rx2 =regulation(x2)\n",
    "\n",
    "#构造矩阵\n",
    "X = np.mat([rx1,rx2,np.ones(len(x1))]).T\n",
    "y = np.mat(y).T\n",
    "\n",
    "#分离数据中正类和反类\n",
    "pos_x1 = data[data[:,2]==1] [:,0]\n",
    "pos_x2 = data[data[:,2] == 1][:,1]\n",
    "\n",
    "neg_x1 = data[data[:,2]==0][:,0]\n",
    "neg_x2 = data[data[:,2]==0][:,1]\n",
    "\n",
    "times = 2000 \n",
    "lr = 0.1\n",
    "theta = [0.1,0.1,0.1]\n",
    "\n",
    "\n"
   ]
  },
  {
   "cell_type": "code",
   "execution_count": 36,
   "metadata": {},
   "outputs": [],
   "source": [
    "def sigmoid(x,theta):\n",
    "    return 1.0/(1+np.exp(-1.0*x*np.mat(theta).T)[0,0])\n",
    "\n",
    "#梯度下降，返回theta和loss\n",
    "def grad(X,y,theta,times,lr):\n",
    "    m = X.shape[0]\n",
    "    n = X.shape[1]\n",
    "    loss=[]\n",
    "    for j in range(times):\n",
    "        sum=[0,0,0]\n",
    "        for i  in range(m):\n",
    "            sum[0] += (sigmoid(X[i],theta)-y[i,0])*X[i,0]\n",
    "            sum[1] +=(sigmoid(X[i],theta)-y[i,0])*X[i,1]\n",
    "            sum[2] +=(sigmoid(X[i],theta)-y[i,0])*X[i,2]\n",
    "        \n",
    "        \n",
    "        for i in range(n):\n",
    "            theta[i] -= lr*sum[i]/m\n",
    "        loss +=[compute_loss(X,y,theta)]\n",
    "    return theta,loss\n",
    " \n",
    "#计算损失值\n",
    "def compute_loss(X,y,theta):\n",
    "    sum =0\n",
    "    n = X.shape[0]\n",
    "    for i in range(n):\n",
    "       # print(sum)\n",
    "        sum+=y[i,0]*np.log(sigmoid(X[i],theta))+(1-y[i,0])*np.log(1-sigmoid(X[i],theta))\n",
    "    return sum/n*(-1)\n",
    "theta,loss = grad(X,y,theta,times,lr)"
   ]
  },
  {
   "cell_type": "code",
   "execution_count": 37,
   "metadata": {},
   "outputs": [
    {
     "data": {
      "text/plain": [
       "[<matplotlib.lines.Line2D at 0x7f4b48497f40>]"
      ]
     },
     "execution_count": 37,
     "metadata": {},
     "output_type": "execute_result"
    },
    {
     "data": {
      "image/png": "[encoded data removed]",
      "text/plain": [
       "<Figure size 432x288 with 1 Axes>"
      ]
     },
     "metadata": {
      "needs_background": "light"
     },
     "output_type": "display_data"
    }
   ],
   "source": [
    "plt.plot(np.arange(len(loss)),loss)\n"
   ]
  },
  {
   "cell_type": "code",
   "execution_count": 38,
   "metadata": {},
   "outputs": [
    {
     "data": {
      "text/plain": [
       "[<matplotlib.lines.Line2D at 0x7f4b1b623af0>]"
      ]
     },
     "execution_count": 38,
     "metadata": {},
     "output_type": "execute_result"
    },
    {
     "data": {
      "image/png": "[encoded data removed]",
      "text/plain": [
       "<Figure size 432x288 with 1 Axes>"
      ]
     },
     "metadata": {
      "needs_background": "light"
     },
     "output_type": "display_data"
    }
   ],
   "source": [
    "plt.plot(pos_x1,pos_x2,\"r.\")\n",
    "plt.plot(neg_x1,neg_x2,\"b.\")\n",
    "plt.plot(x1,(-theta[0]/theta[1])*x1-(theta[2]/theta[1])+x1.mean()+x2.mean())"
   ]
  }
 ],
 "metadata": {
  "kernelspec": {
   "display_name": "Python 3",
   "language": "python",
   "name": "python3"
  },
  "language_info": {
   "codemirror_mode": {
    "name": "ipython",
    "version": 3
   },
   "file_extension": ".py",
   "mimetype": "text/x-python",
   "name": "python",
   "nbconvert_exporter": "python",
   "pygments_lexer": "ipython3",
   "version": "3.8.3"
  }
 },
 "nbformat": 4,
 "nbformat_minor": 4
}
