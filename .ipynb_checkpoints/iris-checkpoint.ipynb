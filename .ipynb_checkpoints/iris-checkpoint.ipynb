{
 "cells": [
  {
   "cell_type": "code",
   "execution_count": 83,
   "metadata": {},
   "outputs": [],
   "source": [
    "import numpy as np\n",
    "import matplotlib.pyplot as plt\n",
    "from sklearn import linear_model\n",
    "from sklearn.metrics import accuracy_score\n",
    "from sklearn.datasets import load_iris\n",
    "\n",
    "def regulation(x):\n",
    "    return (x-x.mean())/x.std()\n",
    "\n",
    "iris = load_iris()\n",
    "data = iris.data\n",
    "y = iris.target\n",
    "\n",
    "sepal_length =data[:,0]\n",
    "sepal_width=data[:,1]\n",
    "petal_length=data[:,2]\n",
    "petal_width=data[:,3]\n",
    "\n",
    "#正则化数据\n",
    "rsepal_length=regulation(sepal_length)\n",
    "rsepal_width=regulation(sepal_width)\n",
    "rpetal_length=regulation(petal_length)\n",
    "reptal_width=regulation(petal_width)\n",
    "\n",
    "#将数据转换为矩阵的形式\n",
    "X=np.mat([rpetal_length,reptal_width,np.ones(len(petal_length))]).T\n",
    "y = np.mat(y).T\n",
    "\n",
    "\n",
    "#theta，迭代次数，学习率\n",
    "theta1 = [0.1,0.1,0.1]\n",
    "theta2=[0.1,0.1,0.1]\n",
    "times = 500\n",
    "lr=0.001"
   ]
  },
  {
   "cell_type": "code",
   "execution_count": 84,
   "metadata": {},
   "outputs": [
    {
     "data": {
      "text/plain": [
       "[<matplotlib.lines.Line2D at 0x7fccb411f040>]"
      ]
     },
     "execution_count": 84,
     "metadata": {},
     "output_type": "execute_result"
    },
    {
     "data": {
      "image/png": "[encoded data removed]",
      "text/plain": [
       "<Figure size 432x288 with 1 Axes>"
      ]
     },
     "metadata": {
      "needs_background": "light"
     },
     "output_type": "display_data"
    }
   ],
   "source": [
    "#依据sepal分类时，可视化图像\n",
    "plt.plot(sepal_length[:49],sepal_width[:49],\"r.\")\n",
    "plt.plot(sepal_length[50:99],sepal_width[50:99],\"m.\")\n",
    "plt.plot(sepal_length[100:],sepal_width[100:],\"b.\")"
   ]
  },
  {
   "cell_type": "code",
   "execution_count": 107,
   "metadata": {},
   "outputs": [
    {
     "data": {
      "text/plain": [
       "[<matplotlib.lines.Line2D at 0x7fccb3e0f070>]"
      ]
     },
     "execution_count": 107,
     "metadata": {},
     "output_type": "execute_result"
    },
    {
     "data": {
      "image/png": "[encoded data removed]",
      "text/plain": [
       "<Figure size 432x288 with 1 Axes>"
      ]
     },
     "metadata": {
      "needs_background": "light"
     },
     "output_type": "display_data"
    }
   ],
   "source": [
    "#依据petal分类，很明显，根据sepal进行分类更合理\n",
    "plt.plot(petal_length[:49],petal_witdh[:49],\"r.\")\n",
    "plt.plot(petal_length[50:99],petal_witdh[50:99],\"m.\")\n",
    "plt.plot(petal_length[100:],petal_witdh[100:],\"b.\")"
   ]
  },
  {
   "cell_type": "code",
   "execution_count": 95,
   "metadata": {},
   "outputs": [],
   "source": [
    "\n",
    "def sigmoid(x,theta):\n",
    "    return 1.0/(1+np.exp(-1.0*x*np.mat(theta).T)[0,0])\n",
    "\n",
    "#梯度下降，返回theta和loss\n",
    "def grad(X,y,theta,times,lr):\n",
    "    m = X.shape[0]\n",
    "    n = X.shape[1]\n",
    "    loss=[]\n",
    "    for j in range(times):\n",
    "        sum=[0,0,0]\n",
    "        for i  in range(m):\n",
    "            sum[0] += (sigmoid(X[i],theta)-y[i,0])*X[i,0]\n",
    "            sum[1] +=(sigmoid(X[i],theta)-y[i,0])*X[i,1]\n",
    "            sum[2] +=(sigmoid(X[i],theta)-y[i,0])*X[i,2]\n",
    "        \n",
    "        \n",
    "        for i in range(n):\n",
    "            theta[i] -= lr*sum[i]/m\n",
    "        loss +=[compute_loss(X,y,theta)]\n",
    "    return theta,loss\n",
    " \n",
    "#计算损失值\n",
    "def compute_loss(X,y,theta):\n",
    "    sum =0\n",
    "    n = X.shape[0]\n",
    "    for i in range(n):\n",
    "       # print(sum)\n",
    "        sum+=y[i,0]*np.log(sigmoid(X[i],theta))+(y-y[i,0])*np.log(1-sigmoid(X[i],theta))\n",
    "    return sum/n*(-1)"
   ]
  },
  {
   "cell_type": "code",
   "execution_count": 116,
   "metadata": {},
   "outputs": [],
   "source": [
    "#通过两次二分类来将数据分成三类\n",
    "y[50:]=1\n",
    "y[0:49]=0\n",
    "theta1,loss1 = grad(X,y,theta1,times,lr)\n",
    "\n",
    "y[100:]=1\n",
    "y[50:99]=0\n",
    "theta2,loss2 = grad(X[50:],y[50:],theta2,times,lr)\n"
   ]
  },
  {
   "cell_type": "code",
   "execution_count": 117,
   "metadata": {},
   "outputs": [
    {
     "data": {
      "text/plain": [
       "[<matplotlib.lines.Line2D at 0x7fccb3dbbe50>]"
      ]
     },
     "execution_count": 117,
     "metadata": {},
     "output_type": "execute_result"
    },
    {
     "data": {
      "image/png": "[encoded data removed]",
      "text/plain": [
       "<Figure size 432x288 with 1 Axes>"
      ]
     },
     "metadata": {
      "needs_background": "light"
     },
     "output_type": "display_data"
    }
   ],
   "source": [
    "plt.plot(petal_length[:49],petal_witdh[:49],\"r.\")\n",
    "plt.plot(petal_length[50:99],petal_witdh[50:99],\"m.\")\n",
    "plt.plot(petal_length[100:],petal_witdh[100:],\"b.\")\n",
    "\n",
    "plt.plot(petal_length,-theta1[0]/theta1[1]*petal_length-theta1[2]/theta1[1]+petal_length.mean()+reptal_width.mean())\n",
    "plt.plot(petal_length,-theta2[0]/theta2[1]*petal_length-theta2[2]/theta2[1]+petal_length[50:].mean()+reptal_width[50:].mean())\n"
   ]
  },
  {
   "cell_type": "code",
   "execution_count": null,
   "metadata": {},
   "outputs": [],
   "source": []
  },
  {
   "cell_type": "code",
   "execution_count": null,
   "metadata": {},
   "outputs": [],
   "source": []
  }
 ],
 "metadata": {
  "kernelspec": {
   "display_name": "Python 3",
   "language": "python",
   "name": "python3"
  },
  "language_info": {
   "codemirror_mode": {
    "name": "ipython",
    "version": 3
   },
   "file_extension": ".py",
   "mimetype": "text/x-python",
   "name": "python",
   "nbconvert_exporter": "python",
   "pygments_lexer": "ipython3",
   "version": "3.8.3"
  }
 },
 "nbformat": 4,
 "nbformat_minor": 4
}
